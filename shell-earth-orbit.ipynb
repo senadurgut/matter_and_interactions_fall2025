{
 "cells": [
  {
   "cell_type": "markdown",
   "metadata": {},
   "source": [
    "# Earth Orbit Program\n",
    "Code the Earth orbit around the sun under normal gravity, then vary gravity to see what happens.\n",
    "There are a number of constants that we will need to make the program work:\n",
    "\n",
    "    Mass of the Sun:      1.989e30 kg\n",
    "    Radius of the Sun:    695.5e6 m\n",
    "    Mass of the Earth:    5.972e24 kg\n",
    "    Radius of the Earth:  6.371e6 m\n",
    "    Distance from Sun to Earth: 149,597,870,000 m\n",
    "    A year is 3.15e7 seconds\n",
    "\n",
    "From the above, we can compute the speed of the Earth.\n",
    "\n",
    "    Speed of the Earth:   2*pi*radius/time\n",
    "\n"
   ]
  },
  {
   "cell_type": "code",
   "execution_count": 1,
   "metadata": {},
   "outputs": [
    {
     "data": {
      "text/html": [
       "<div id=\"glowscript\" class=\"glowscript\"></div>"
      ],
      "text/plain": [
       "<IPython.core.display.HTML object>"
      ]
     },
     "metadata": {},
     "output_type": "display_data"
    },
    {
     "data": {
      "application/javascript": "if (typeof Jupyter !== \"undefined\") { window.__context = { glowscript_container: $(\"#glowscript\").removeAttr(\"id\")};}else{ element.textContent = ' ';}",
      "text/plain": [
       "<IPython.core.display.Javascript object>"
      ]
     },
     "metadata": {},
     "output_type": "display_data"
    }
   ],
   "source": [
    "from math import *\n",
    "from vpython import *"
   ]
  },
  {
   "cell_type": "code",
   "execution_count": 2,
   "metadata": {},
   "outputs": [
    {
     "data": {
      "text/html": [
       "<div id=\"glowscript\" class=\"glowscript\"></div>"
      ],
      "text/plain": [
       "<IPython.core.display.HTML object>"
      ]
     },
     "metadata": {},
     "output_type": "display_data"
    },
    {
     "data": {
      "application/javascript": "if (typeof Jupyter !== \"undefined\") { window.__context = { glowscript_container: $(\"#glowscript\").removeAttr(\"id\")};}else{ element.textContent = ' ';}",
      "text/plain": [
       "<IPython.core.display.Javascript object>"
      ]
     },
     "metadata": {},
     "output_type": "display_data"
    },
    {
     "ename": "KeyboardInterrupt",
     "evalue": "",
     "output_type": "error",
     "traceback": [
      "\u001b[0;31m---------------------------------------------------------------------------\u001b[0m",
      "\u001b[0;31mKeyboardInterrupt\u001b[0m                         Traceback (most recent call last)",
      "Cell \u001b[0;32mIn[2], line 16\u001b[0m\n\u001b[1;32m     11\u001b[0m scene2 \u001b[38;5;241m=\u001b[39m canvas(title\u001b[38;5;241m=\u001b[39m\u001b[38;5;124m'\u001b[39m\u001b[38;5;124mEarth orbiting the Sun\u001b[39m\u001b[38;5;124m'\u001b[39m,caption\u001b[38;5;241m=\u001b[39m\u001b[38;5;124m'\u001b[39m\u001b[38;5;124mAnimated Display\u001b[39m\u001b[38;5;124m'\u001b[39m,\n\u001b[1;32m     12\u001b[0m      center\u001b[38;5;241m=\u001b[39mvector(\u001b[38;5;241m0\u001b[39m,\u001b[38;5;241m0\u001b[39m,\u001b[38;5;241m0\u001b[39m), background\u001b[38;5;241m=\u001b[39mcolor\u001b[38;5;241m.\u001b[39mblack)\n\u001b[1;32m     13\u001b[0m \u001b[38;5;66;03m#\u001b[39;00m\n\u001b[1;32m     14\u001b[0m \u001b[38;5;66;03m# Make the radius of each object large enough to see them\u001b[39;00m\n\u001b[1;32m     15\u001b[0m \u001b[38;5;66;03m#\u001b[39;00m\n\u001b[0;32m---> 16\u001b[0m earth \u001b[38;5;241m=\u001b[39m \u001b[43msphere\u001b[49m\u001b[43m(\u001b[49m\u001b[43mpos\u001b[49m\u001b[38;5;241;43m=\u001b[39;49m\u001b[43mvector\u001b[49m\u001b[43m(\u001b[49m\u001b[43msun_earth_distance\u001b[49m\u001b[43m,\u001b[49m\u001b[38;5;241;43m0\u001b[39;49m\u001b[43m,\u001b[49m\u001b[38;5;241;43m0\u001b[39;49m\u001b[43m)\u001b[49m\u001b[43m,\u001b[49m\u001b[43mradius\u001b[49m\u001b[38;5;241;43m=\u001b[39;49m\u001b[38;5;241;43m1e9\u001b[39;49m\u001b[43m,\u001b[49m\u001b[43mcolor\u001b[49m\u001b[38;5;241;43m=\u001b[39;49m\u001b[43mcolor\u001b[49m\u001b[38;5;241;43m.\u001b[39;49m\u001b[43mgreen\u001b[49m\u001b[43m)\u001b[49m\n\u001b[1;32m     17\u001b[0m sun   \u001b[38;5;241m=\u001b[39m sphere(pos\u001b[38;5;241m=\u001b[39mvector(\u001b[38;5;241m0\u001b[39m,\u001b[38;5;241m0\u001b[39m,\u001b[38;5;241m0\u001b[39m),radius\u001b[38;5;241m=\u001b[39m\u001b[38;5;241m5e9\u001b[39m,color\u001b[38;5;241m=\u001b[39mcolor\u001b[38;5;241m.\u001b[39myellow)\n\u001b[1;32m     18\u001b[0m \u001b[38;5;66;03m#\u001b[39;00m\n",
      "File \u001b[0;32m~/anaconda3/envs/matter2/lib/python3.12/site-packages/vpython/vpython.py:1189\u001b[0m, in \u001b[0;36msphere.__init__\u001b[0;34m(self, **args)\u001b[0m\n\u001b[1;32m   1187\u001b[0m args[\u001b[38;5;124m'\u001b[39m\u001b[38;5;124m_default_size\u001b[39m\u001b[38;5;124m'\u001b[39m] \u001b[38;5;241m=\u001b[39m vector(\u001b[38;5;241m2\u001b[39m,\u001b[38;5;241m2\u001b[39m,\u001b[38;5;241m2\u001b[39m)\n\u001b[1;32m   1188\u001b[0m args[\u001b[38;5;124m'\u001b[39m\u001b[38;5;124m_objName\u001b[39m\u001b[38;5;124m'\u001b[39m] \u001b[38;5;241m=\u001b[39m \u001b[38;5;124m\"\u001b[39m\u001b[38;5;124msphere\u001b[39m\u001b[38;5;124m\"\u001b[39m\n\u001b[0;32m-> 1189\u001b[0m \u001b[38;5;28;43msuper\u001b[39;49m\u001b[43m(\u001b[49m\u001b[43msphere\u001b[49m\u001b[43m,\u001b[49m\u001b[43m \u001b[49m\u001b[38;5;28;43mself\u001b[39;49m\u001b[43m)\u001b[49m\u001b[38;5;241;43m.\u001b[39;49m\u001b[43msetup\u001b[49m\u001b[43m(\u001b[49m\u001b[43margs\u001b[49m\u001b[43m)\u001b[49m\n\u001b[1;32m   1190\u001b[0m \u001b[38;5;28mself\u001b[39m\u001b[38;5;241m.\u001b[39m_sizing \u001b[38;5;241m=\u001b[39m \u001b[38;5;28;01mFalse\u001b[39;00m\n",
      "File \u001b[0;32m~/anaconda3/envs/matter2/lib/python3.12/site-packages/vpython/vpython.py:612\u001b[0m, in \u001b[0;36mstandardAttributes.setup\u001b[0;34m(self, args)\u001b[0m\n\u001b[1;32m    611\u001b[0m \u001b[38;5;28;01mdef\u001b[39;00m \u001b[38;5;21msetup\u001b[39m(\u001b[38;5;28mself\u001b[39m, args):\n\u001b[0;32m--> 612\u001b[0m     \u001b[38;5;28;43msuper\u001b[39;49m\u001b[43m(\u001b[49m\u001b[43mstandardAttributes\u001b[49m\u001b[43m,\u001b[49m\u001b[43m \u001b[49m\u001b[38;5;28;43mself\u001b[39;49m\u001b[43m)\u001b[49m\u001b[38;5;241;43m.\u001b[39;49m\u001b[38;5;21;43m__init__\u001b[39;49m\u001b[43m(\u001b[49m\u001b[43m)\u001b[49m\n\u001b[1;32m    613\u001b[0m     \u001b[38;5;28mself\u001b[39m\u001b[38;5;241m.\u001b[39m_constructing \u001b[38;5;241m=\u001b[39m \u001b[38;5;28;01mTrue\u001b[39;00m  \u001b[38;5;66;03m## calls to setters are from constructor\u001b[39;00m\n\u001b[1;32m    615\u001b[0m     objName \u001b[38;5;241m=\u001b[39m \u001b[38;5;28mself\u001b[39m\u001b[38;5;241m.\u001b[39m_objName \u001b[38;5;241m=\u001b[39m args[\u001b[38;5;124m'\u001b[39m\u001b[38;5;124m_objName\u001b[39m\u001b[38;5;124m'\u001b[39m]  \u001b[38;5;66;03m## identifies object type\u001b[39;00m\n",
      "File \u001b[0;32m~/anaconda3/envs/matter2/lib/python3.12/site-packages/vpython/vpython.py:265\u001b[0m, in \u001b[0;36mbaseObj.__init__\u001b[0;34m(self, **kwargs)\u001b[0m\n\u001b[1;32m    262\u001b[0m \u001b[38;5;28;01mif\u001b[39;00m \u001b[38;5;129;01mnot\u001b[39;00m (baseObj\u001b[38;5;241m.\u001b[39m_view_constructed \u001b[38;5;129;01mor\u001b[39;00m\n\u001b[1;32m    263\u001b[0m         baseObj\u001b[38;5;241m.\u001b[39m_canvas_constructing):\n\u001b[1;32m    264\u001b[0m     \u001b[38;5;28;01mif\u001b[39;00m _isnotebook:\n\u001b[0;32m--> 265\u001b[0m         \u001b[38;5;28;01mfrom\u001b[39;00m \u001b[38;5;21;01m.\u001b[39;00m\u001b[38;5;21;01mwith_notebook\u001b[39;00m \u001b[38;5;28;01mimport\u001b[39;00m _\n\u001b[1;32m    266\u001b[0m     \u001b[38;5;28;01melse\u001b[39;00m:\n\u001b[1;32m    267\u001b[0m         \u001b[38;5;28;01mfrom\u001b[39;00m \u001b[38;5;21;01m.\u001b[39;00m\u001b[38;5;21;01mno_notebook\u001b[39;00m \u001b[38;5;28;01mimport\u001b[39;00m _\n",
      "File \u001b[0;32m~/anaconda3/envs/matter2/lib/python3.12/site-packages/vpython/with_notebook.py:154\u001b[0m\n\u001b[1;32m    152\u001b[0m baseObj\u001b[38;5;241m.\u001b[39mglow \u001b[38;5;241m=\u001b[39m GlowWidget(wsport\u001b[38;5;241m=\u001b[39m__SOCKET_PORT, wsuri\u001b[38;5;241m=\u001b[39m\u001b[38;5;124m'\u001b[39m\u001b[38;5;124m/ws\u001b[39m\u001b[38;5;124m'\u001b[39m)\n\u001b[1;32m    153\u001b[0m \u001b[38;5;28;01mwhile\u001b[39;00m (\u001b[38;5;129;01mnot\u001b[39;00m wsConnected):\n\u001b[0;32m--> 154\u001b[0m     \u001b[43mtime\u001b[49m\u001b[38;5;241;43m.\u001b[39;49m\u001b[43msleep\u001b[49m\u001b[43m(\u001b[49m\u001b[38;5;241;43m0.1\u001b[39;49m\u001b[43m)\u001b[49m          \u001b[38;5;66;03m# wait for websocket to connect\u001b[39;00m\n\u001b[1;32m    156\u001b[0m baseObj\u001b[38;5;241m.\u001b[39mtrigger()  \u001b[38;5;66;03m# start the trigger ping-pong process\u001b[39;00m\n\u001b[1;32m    159\u001b[0m \u001b[38;5;66;03m# Same justification as above for removing the ipykernel check.\u001b[39;00m\n\u001b[1;32m    160\u001b[0m \u001b[38;5;66;03m# There was also an IPython version check for >=4, which was\u001b[39;00m\n\u001b[1;32m    161\u001b[0m \u001b[38;5;66;03m# released in Nov 2015. Ok to stop supporting in 2.019 I think.\u001b[39;00m\n",
      "\u001b[0;31mKeyboardInterrupt\u001b[0m: "
     ]
    }
   ],
   "source": [
    "#\n",
    "# Needed Constants\n",
    "#\n",
    "#sun_earth_distance = 0\n",
    "#speed_of_earth = 0\n",
    "sun_earth_distance = 149597870000\n",
    "speed_of_earth = 2*pi*sun_earth_distance/365.25\n",
    "#\n",
    "# Set up the displays\n",
    "#\n",
    "scene2 = canvas(title='Earth orbiting the Sun',caption='Animated Display',\n",
    "     center=vector(0,0,0), background=color.black)\n",
    "#\n",
    "# Make the radius of each object large enough to see them\n",
    "#\n",
    "earth = sphere(pos=vector(sun_earth_distance,0,0),radius=1e9,color=color.green)\n",
    "sun   = sphere(pos=vector(0,0,0),radius=5e9,color=color.yellow)\n",
    "#\n",
    "G = 6.7e-11\n",
    "#\n",
    "earth.mass = 5.97e24\n",
    "sun.mass   = 1.989e30\n",
    "#\n",
    "#\n",
    "earth.momentum = earth.mass*vector(0,speed_of_earth,0)\n",
    "sun.momentum = sun.mass*vector(0,0,0)\n",
    "#\n",
    "# Create a trail for the earth, and vectors for the force on the earth.\n",
    "# scale should be a number that lets is see the force arrow on the plot.\n",
    "#\n",
    "earth.trail = curve(color=color.magenta)\n",
    "earth.trail.append(pos=earth.pos)\n",
    "#\n",
    "earth.point = arrow(pos=earth.pos,color=earth.color,axis=-norm(earth.pos))\n",
    "scale = 3e-12\n",
    "#\n",
    "# Initial time is 0, and the time step is twelve hours\n",
    "#\n",
    "time = 0\n",
    "dt = 12*3600\n",
    "#\n",
    "# We will initially run for one year\n",
    "#\n",
    "while time < 3.15e8:\n",
    "    rate(100)\n",
    "#\n",
    "    time += dt\n",
    "#\n",
    "#  Compute the force on the earth using our force function.\n",
    "#\n",
    "    earth.force = 0\n",
    "#\n",
    "#  Update the momentum and position of the Earth\n",
    "#\n",
    "    earth.momentum = 0\n",
    "    earth.pos = 0\n",
    "#\n",
    "#   Update the Earth's Momentum arrow\n",
    "#\n",
    "    earth.trail.append(pos=earth.pos)\n",
    "    earth.point.pos = earth.pos\n",
    "    earth.point.axis = earth.force*scale\n",
    "#\n",
    "days = time/(3600*24)\n",
    "print('days',days)"
   ]
  },
  {
   "cell_type": "code",
   "execution_count": null,
   "metadata": {},
   "outputs": [],
   "source": []
  }
 ],
 "metadata": {
  "kernelspec": {
   "display_name": "matter2",
   "language": "python",
   "name": "python3"
  },
  "language_info": {
   "codemirror_mode": {
    "name": "ipython",
    "version": 3
   },
   "file_extension": ".py",
   "mimetype": "text/x-python",
   "name": "python",
   "nbconvert_exporter": "python",
   "pygments_lexer": "ipython3",
   "version": "3.12.11"
  }
 },
 "nbformat": 4,
 "nbformat_minor": 4
}
